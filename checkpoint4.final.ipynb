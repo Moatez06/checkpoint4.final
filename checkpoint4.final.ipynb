{
 "cells": [
  {
   "cell_type": "markdown",
   "id": "9e165fee",
   "metadata": {},
   "source": [
    "#Question: 1"
   ]
  },
  {
   "cell_type": "code",
   "execution_count": 22,
   "id": "16175159",
   "metadata": {},
   "outputs": [
    {
     "name": "stdout",
     "output_type": "stream",
     "text": [
      "(1, 2, 3)\n"
     ]
    }
   ],
   "source": [
    "class Point3D:\n",
    "    def __init__(self, x, y, z):\n",
    "        self.x=x\n",
    "        self.y=y\n",
    "        self.z=z\n",
    "    \n",
    "    def test(self):\n",
    "    \n",
    "        return (self.x,self.y,self.z)\n",
    "     \n",
    "    \n",
    "\n",
    "my_point = Point3D(1,2,3)\n",
    "print(my_point.test())"
   ]
  },
  {
   "cell_type": "markdown",
   "id": "9e1b260d",
   "metadata": {},
   "source": [
    "#Question: 2"
   ]
  },
  {
   "cell_type": "code",
   "execution_count": 36,
   "id": "789c29e7",
   "metadata": {},
   "outputs": [
    {
     "name": "stdout",
     "output_type": "stream",
     "text": [
      "12\n",
      "14\n"
     ]
    }
   ],
   "source": [
    "class Rectangle():\n",
    "    def __init__(self,length,width):\n",
    "        self.length= length\n",
    "        self.width= width\n",
    "        \n",
    "    def rectangle_with_width(self):\n",
    "        return self.length*self.width\n",
    "    \n",
    "    def Rectangle_with_length(self):\n",
    "        return (self.length+self.width)*2\n",
    "        \n",
    "    \n",
    "\n",
    "newRectangle1 = Rectangle(3, 4)\n",
    "print(newRectangle1.rectangle_with_width())\n",
    "\n",
    "newRectangle2 = Rectangle(3, 4)\n",
    "print(newRectangle2.Rectangle_with_length())      "
   ]
  },
  {
   "cell_type": "markdown",
   "id": "9ba60f07",
   "metadata": {},
   "source": [
    "#Question: 3"
   ]
  },
  {
   "cell_type": "code",
   "execution_count": 24,
   "id": "0c0f6165",
   "metadata": {},
   "outputs": [
    {
     "name": "stdout",
     "output_type": "stream",
     "text": [
      "Xo= 1\n",
      "Yo= 1\n",
      "Xa= 3\n",
      "Ya= 1\n",
      "radius= 2\n",
      "area= 12.56\n",
      "perimeter 12.56\n",
      "a belongs to the circle \n"
     ]
    }
   ],
   "source": [
    "from math import*\n",
    "class Circle ():\n",
    "    def __init__(self,r):\n",
    "        self.radius=r\n",
    "        \n",
    "    def area (self):\n",
    "        return self.radius**2*3.14\n",
    "    \n",
    "    def perimeter (self):\n",
    "         return 2*self.radius*3.14\n",
    "        \n",
    "    def isInside(self,Xo,Yo,Xa,Ya):\n",
    "        \n",
    "        a=(Xo , Yo)\n",
    "        o=(Xa , Ya)\n",
    "        distance= sqrt(((Xa-Xo)**2)+((Ya-Yo)**2))\n",
    "        if distance <= self.radius:\n",
    "            return (\"a belongs to the circle \")\n",
    "        else:\n",
    "            \n",
    "            return (\"a dosen't belong to the circle\")\n",
    "        \n",
    "        \n",
    "Xo=int(input(\"Xo= \"))\n",
    "Yo=int(input(\"Yo= \"))\n",
    "Xa=int(input(\"Xa= \"))\n",
    "Ya=int(input(\"Ya= \"))\n",
    "k=int(input(\"radius= \"))        \n",
    "NewCircle =Circle(k)                                           #(Don't look) #input(\"Yor circle\").\n",
    "\n",
    "print(\"area=\",NewCircle.area())\n",
    "print(\"perimeter\",NewCircle.perimeter())\n",
    "\n",
    "print(NewCircle.isInside(Xo,Yo,Xa,Ya))\n"
   ]
  },
  {
   "cell_type": "markdown",
   "id": "abc1a004",
   "metadata": {},
   "source": [
    "#Question: 4"
   ]
  },
  {
   "cell_type": "code",
   "execution_count": 79,
   "id": "0473f3c1",
   "metadata": {},
   "outputs": [
    {
     "name": "stdout",
     "output_type": "stream",
     "text": [
      "Hello! Welcome to the Deposit & Withdrawal Machine\n",
      "Give the amount you want to enter: 366000\n",
      "The amount you have in the account:  366000.0\n",
      "Give the amount you want to attract: 6330\n",
      "The remaining amount is in the account:  6330.0\n",
      "The remaining amount is in the account=  359670.0\n"
     ]
    }
   ],
   "source": [
    "class Bank_Account:\n",
    "    def __init__(self):\n",
    "        self.balance=0\n",
    "        print(\"Hello! Welcome to the Deposit & Withdrawal Machine\")\n",
    "\n",
    "    def deposit(self):\n",
    "        amount=float(input(\"Give the amount you want to enter: \"))\n",
    "        self.balance += amount\n",
    "        print(\"The amount you have in the account: \",amount)\n",
    "\n",
    "    def withdraw(self):\n",
    "        amount = float(input(\"Give the amount you want to attract: \"))\n",
    "        if self.balance>=amount:\n",
    "            self.balance-=amount\n",
    "            print(\"The remaining amount is in the account: \", amount)\n",
    "        else:\n",
    "            print(\"Insufficient balance \")\n",
    "\n",
    "    def display(self):\n",
    "        print(\"The remaining amount is in the account= \",self.balance)\n",
    "\n",
    "\n",
    "        \n",
    "M = Bank_Account()\n",
    "\n",
    "M.deposit()\n",
    "M.withdraw()\n",
    "M.display()\n"
   ]
  },
  {
   "cell_type": "code",
   "execution_count": null,
   "id": "63641ed3",
   "metadata": {},
   "outputs": [],
   "source": []
  }
 ],
 "metadata": {
  "kernelspec": {
   "display_name": "Python 3",
   "language": "python",
   "name": "python3"
  },
  "language_info": {
   "codemirror_mode": {
    "name": "ipython",
    "version": 3
   },
   "file_extension": ".py",
   "mimetype": "text/x-python",
   "name": "python",
   "nbconvert_exporter": "python",
   "pygments_lexer": "ipython3",
   "version": "3.8.8"
  }
 },
 "nbformat": 4,
 "nbformat_minor": 5
}
